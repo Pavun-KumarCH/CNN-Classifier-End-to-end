{
  "nbformat": 4,
  "nbformat_minor": 0,
  "metadata": {
    "colab": {
      "private_outputs": true,
      "provenance": [],
      "gpuType": "T4",
      "cell_execution_strategy": "setup",
      "authorship_tag": "ABX9TyOHObZgHIPtKSXz52dM6ECB",
      "include_colab_link": true
    },
    "kernelspec": {
      "name": "python3",
      "display_name": "Python 3"
    },
    "language_info": {
      "name": "python"
    },
    "accelerator": "GPU"
  },
  "cells": [
    {
      "cell_type": "markdown",
      "metadata": {
        "id": "view-in-github",
        "colab_type": "text"
      },
      "source": [
        "<a href=\"https://colab.research.google.com/github/Pavun-KumarCH/CNN-Classifier-End-to-end/blob/main/Medical_Inventory_Management.ipynb\" target=\"_parent\"><img src=\"https://colab.research.google.com/assets/colab-badge.svg\" alt=\"Open In Colab\"/></a>"
      ]
    },
    {
      "cell_type": "markdown",
      "source": [
        "#<h1><center><strong><font size=\"6\">Medical Inventory Management Project<font><strong></center></h1>"
      ],
      "metadata": {
        "id": "6Nrnl8WzjTBj"
      }
    },
    {
      "cell_type": "markdown",
      "source": [
        "## **CRISP - ML(Q)**\n",
        "\n",
        "**CRISP-ML(Q) process model describes six phases:**\n",
        "\n",
        "- Business and Data Understanding\n",
        "- Data Preparation (Data Engineering)\n",
        "- Model Building (Machine Learning)\n",
        "- Model Evaluation and Tunning\n",
        "- Deployment\n",
        "- Monitoring and Maintenance\n",
        "\n",
        "---\n",
        "\n",
        "## **Problem Statements**:\n",
        "Bounce rate is increasing significantly leading to patient dissatisfaction.\n",
        "\n",
        "---\n",
        "\n",
        "### **Business Objective** :\n",
        "Minimize Bounce Rate.\n",
        "\n",
        "### **Business Constraints** :\n",
        "Minimize Inventory Cost.\n",
        "\n",
        "---\n",
        "          \n",
        "## **Success Criteria** : -\n",
        "\n",
        "**Business Success Criteria** : Reduce bounce rate by at least 30%\n",
        "\n",
        "**Machine Learning Success Criteria** : Achieve an Accuracy of at least 90%\n",
        "\n",
        "**Economic Success Criteria** : Increase revenue by at least 20 lacs INR by reducing bounce rate.\n",
        "\n",
        "---\n",
        "\n",
        "### **Data Collection** :\n",
        "                  \n",
        "Data Was Provided client which One of the Leading Pharma Company in india.\n"
      ],
      "metadata": {
        "id": "gooETpEXvm_R"
      }
    },
    {
      "cell_type": "markdown",
      "source": [
        "## **Data Description** :\n",
        "The dataset consists of 14218 entries with the following columns:\n",
        "\n",
        "**VARIABLE NAME - DESCRIPTION**\n",
        "\n",
        "---\n",
        "1. **Typeofsales** :\t*Type of sale of the drug. Either the drug is sold or returned.*\n",
        "\n",
        "2. **Patient_ID** : \t*ID of a patient*\n",
        "\n",
        "3. **Specialisation** :\t*Name of Specialisation (eg. Cardiology)*\n",
        "\n",
        "4. **Dept** :\t        *Pharmacy, the formulation is related with.*\n",
        "\n",
        "5. **Dateofbill** :  \t*Date of purchase of medicine*\n",
        "\n",
        "6. **Quantity** :\t    *Quantity of the drug*\n",
        "\n",
        "7. **ReturnQuantity** :\t*Quantity of drug returned by patient to the pharmacy*\n",
        "\n",
        "8. **Final_Cost** :\t    *Final Cost of the drug (Quantity included)*\n",
        "\n",
        "9. **Final_Sales** :\t*Final sales of drug*\n",
        "\n",
        "10. **RtnMRP** :\t       * MRP of returned drug (Quantity included)*\n",
        "\n",
        "11. **Formulation** :\t*Type of formulation*\n",
        "\n",
        "12. **DrugName** :\t    *Generic name of the drug*\n",
        "\n",
        "13. **SubCat** :\t        *Subcategory (Type) to the category of drugs*\n",
        "\n",
        "14. **SubCat1** :     \t*Subcategory (condition) to the category of drugs*\n"
      ],
      "metadata": {
        "id": "qrtm-yiPvzcx"
      }
    },
    {
      "cell_type": "code",
      "execution_count": null,
      "metadata": {
        "id": "qPf0xphmu8mo"
      },
      "outputs": [],
      "source": [
        "# Import required libraries\n",
        "import io\n",
        "import pylab\n",
        "import pandas as pd\n",
        "import numpy as np\n",
        "import seaborn as sns\n",
        "import matplotlib.pyplot as plt\n",
        "import scipy.stats as stats\n"
      ]
    },
    {
      "cell_type": "code",
      "source": [
        "# Suppress Warning\n",
        "import warnings\n",
        "warnings.filterwarnings('ignore')"
      ],
      "metadata": {
        "id": "t2IfgciGN5Nl"
      },
      "execution_count": null,
      "outputs": []
    },
    {
      "cell_type": "markdown",
      "source": [
        "### Load The Data"
      ],
      "metadata": {
        "id": "v-w_IX_uNn0V"
      }
    },
    {
      "cell_type": "code",
      "source": [
        "from google.colab import files\n",
        "uploaded = files.upload()"
      ],
      "metadata": {
        "id": "TpFSsNQNxDMr"
      },
      "execution_count": null,
      "outputs": []
    },
    {
      "cell_type": "code",
      "source": [
        "filename = next(iter(uploaded))\n",
        "filename"
      ],
      "metadata": {
        "id": "r8UE4L-5zAKr"
      },
      "execution_count": null,
      "outputs": []
    },
    {
      "cell_type": "code",
      "source": [
        "data = pd.read_excel(io.BytesIO(uploaded[filename]))\n"
      ],
      "metadata": {
        "id": "13ZlU0DRSCEx"
      },
      "execution_count": null,
      "outputs": []
    },
    {
      "cell_type": "code",
      "source": [
        "data"
      ],
      "metadata": {
        "id": "Bsuck1rawYDK"
      },
      "execution_count": null,
      "outputs": []
    },
    {
      "cell_type": "markdown",
      "source": [
        "# Financial Metric's analysis\n",
        "\n",
        "Based on the columns 'Quantity', 'Final_Cost', 'Final_Sales', and 'RtnMRP', we can calculate various metrics that provide insights into sales data. Here are some additional calculations we perform:\n",
        "\n",
        "\n",
        "---\n",
        "\n",
        "\n",
        "##Total Revenue:\n",
        "    This is the same as Final_Sales.\n",
        "\n",
        "\n",
        "---\n",
        "\n",
        "\n",
        "##Total Cost:\n",
        "    This is the same as Final_Cost.\n",
        "\n",
        "\n",
        "---\n",
        "\n",
        "\n",
        "##Total Profit:\n",
        "    Calculated as Final_Sales - Final_Cost.\n",
        "\n",
        "\n",
        "---\n",
        "\n",
        "\n",
        "##Profit Margin:\n",
        "\n",
        "    Calculated as (Final_Sales - Final_Cost) / Final_Sales. This represents the percentage of revenue that turns into profit.\n",
        "\n",
        "\n",
        "---\n",
        "\n",
        "\n",
        "##Return on Investment (ROI):\n",
        "\n",
        "    Calculated as (Final_Sales - Final_Cost) / Final_Cost. This measures the profitability of the investment.\n",
        "\n",
        "\n",
        "---\n",
        "\n",
        "\n",
        "##Average Selling Price (ASP):\n",
        "\n",
        "    Calculated as Final_Sales / Quantity. This represents the average price at which each unit is sold.\n",
        "\n",
        "\n",
        "---\n",
        "\n",
        "\n",
        "##Average Cost Price (ACP):\n",
        "\n",
        "    Calculated as Final_Cost / Quantity. This represents the average cost of each unit.\n",
        "\n",
        "\n",
        "---\n",
        "\n",
        "\n",
        "##Markup:\n",
        "\n",
        "    Calculated as (Final_Sales - Final_Cost) / Final_Cost. This represents the percentage increase over the cost price.\n",
        "\n",
        "\n",
        "---\n",
        "\n",
        "\n",
        "##Return Margin:\n",
        "\n",
        "    Calculated as (RtnMRP - Final_Cost) / RtnMRP. This indicates the margin when considering the maximum retail price (MRP) for returns.\n",
        "\n",
        "\n",
        "---\n",
        "\n",
        "\n",
        "##Revenue per Quantity:\n",
        "\n",
        "    Calculated as Final_Sales / Quantity. This is similar to ASP but ensures clarity.\n"
      ],
      "metadata": {
        "id": "3mDiO82yHEFf"
      }
    },
    {
      "cell_type": "code",
      "source": [
        "# Create a DataFrame to store all related Sales Metrics\n",
        "sales_df = pd.DataFrame(columns = ['Profit'])\n",
        "\n",
        "# Calculate Total Profit\n",
        "sales_df['Profit'] = pd.DataFrame(data['Final_Sales'] - data['Final_Cost'])\n",
        "\n",
        "# Calculate Profit Margin\n",
        "sales_df['Profit Margin'] = sales_df['Profit'] / data['Final_Sales']\n",
        "\n",
        "# Calculate Return on Investment(ROI)\n",
        "sales_df['ROI'] = (data['Final_Sales'] - data['Final_Cost'])/ data['Final_Cost']\n",
        "\n",
        "# Calculate Average Selling Price(ASP)\n",
        "sales_df['ASP'] = data['Final_Sales']/ data['Quantity']\n",
        "\n",
        "# Calculate Avreage Cost Price(ACP)\n",
        "sales_df['ACP'] = data['Final_Cost']/ data['Quantity']\n",
        "\n",
        "# Calculate Profit per Unit\n",
        "sales_df['Profit per Unit'] = sales_df['Profit'] / data['Quantity']\n",
        "\n",
        "# Calculate Markup\n",
        "sales_df['Mark up'] = sales_df['Profit'] / data['Final_Cost']\n",
        "\n",
        "# Calculate Return Mark up\n",
        "sales_df['Return Margin'] = (data['RtnMRP'] - data['Final_Cost'])/  data['RtnMRP']\n",
        "\n",
        "\n",
        "print(f\"The Total Profit sales: {sales_df['Profit'].sum()}\\n\")\n",
        "\n",
        "sales_df.describe()"
      ],
      "metadata": {
        "id": "NmxwKIdhH132"
      },
      "execution_count": null,
      "outputs": []
    },
    {
      "cell_type": "code",
      "source": [
        "data.head()"
      ],
      "metadata": {
        "id": "J_nyROUgHCnO"
      },
      "execution_count": null,
      "outputs": []
    },
    {
      "cell_type": "markdown",
      "source": [
        "### Retrive the Data Info"
      ],
      "metadata": {
        "id": "mDMVJBTlNrl-"
      }
    },
    {
      "cell_type": "code",
      "source": [
        "data.info()"
      ],
      "metadata": {
        "id": "pZ2y0nGOzTHH"
      },
      "execution_count": null,
      "outputs": []
    },
    {
      "cell_type": "code",
      "source": [
        "data.head()"
      ],
      "metadata": {
        "id": "0qgQ8VfwC6BM"
      },
      "execution_count": null,
      "outputs": []
    },
    {
      "cell_type": "markdown",
      "source": [
        "## **Data Preparation**"
      ],
      "metadata": {
        "id": "ypqtGqZClQpp"
      }
    },
    {
      "cell_type": "markdown",
      "source": [
        "### Duplicates Handling\n"
      ],
      "metadata": {
        "id": "xZ4IxyqNRYq0"
      }
    },
    {
      "cell_type": "code",
      "source": [
        "duplicates = data.duplicated()\n",
        "sum(duplicates)"
      ],
      "metadata": {
        "id": "K5dbFP3PRck0"
      },
      "execution_count": null,
      "outputs": []
    },
    {
      "cell_type": "code",
      "source": [
        "data.drop_duplicates(inplace = True)\n",
        "duplicates = data.duplicated()\n",
        "sum(duplicates)"
      ],
      "metadata": {
        "id": "BQgb1JvFSYax"
      },
      "execution_count": null,
      "outputs": []
    },
    {
      "cell_type": "markdown",
      "source": [
        "### Handling Missing Values"
      ],
      "metadata": {
        "id": "iB2v30ouNuvU"
      }
    },
    {
      "cell_type": "code",
      "source": [
        "data.isna().sum()\n"
      ],
      "metadata": {
        "id": "VDR9FNkWzWUU"
      },
      "execution_count": null,
      "outputs": []
    },
    {
      "cell_type": "markdown",
      "source": [
        "#### Imputation"
      ],
      "metadata": {
        "id": "XZLiSQ9qO8jm"
      }
    },
    {
      "cell_type": "code",
      "source": [
        "# Reset the index before applying group-wise mode\n",
        "data.reset_index(drop = True, inplace = True)"
      ],
      "metadata": {
        "id": "yYvw55XXQn4T"
      },
      "execution_count": null,
      "outputs": []
    },
    {
      "cell_type": "code",
      "source": [
        "# Impute missing values in Formulation column based on the mode of the group\n",
        "group_cols = ['Typeofsales','Specialisation','Dept']\n",
        "\n",
        "for col in ['Formulation', 'DrugName', 'SubCat', 'SubCat1']:\n",
        "    data[col] = data.groupby(group_cols)[col].transform(lambda x: x.fillna(x.mode().iloc[0]) if not x.mode().empty else x)\n",
        "\n",
        "data.isna().sum()"
      ],
      "metadata": {
        "id": "qs2PF7CdQ23L"
      },
      "execution_count": null,
      "outputs": []
    },
    {
      "cell_type": "code",
      "source": [
        "# We still have few missing values\n",
        "data.dropna(inplace = True)\n",
        "data.reset_index(drop = True, inplace = True)\n",
        "data.isna().sum()"
      ],
      "metadata": {
        "id": "9LGlxBfaR6EX"
      },
      "execution_count": null,
      "outputs": []
    },
    {
      "cell_type": "markdown",
      "source": [
        "### Data Manupulation"
      ],
      "metadata": {
        "id": "OJQjGj40S3vY"
      }
    },
    {
      "cell_type": "code",
      "source": [
        "data['Dateofbill'] = pd.to_datetime(data['Dateofbill'])\n",
        "\n",
        "# Sort the datadet based on date column in ascending order\n",
        "data = data.sort_values(by = 'Dateofbill', ascending = True)"
      ],
      "metadata": {
        "id": "RdhDIPUkS_Kr"
      },
      "execution_count": null,
      "outputs": []
    },
    {
      "cell_type": "code",
      "source": [
        "# Converting date format to month\n",
        "data['Dateofbill'] = data['Dateofbill'].dt.strftime(\"%b\")"
      ],
      "metadata": {
        "id": "061sJsvdYW59"
      },
      "execution_count": null,
      "outputs": []
    },
    {
      "cell_type": "code",
      "source": [
        "# Speifying columns Final cost and final sale  to round\n",
        "data['Final_Cost'] = data['Final_Cost'].map(lambda x : round(x))\n",
        "data['Final_Sales'] = data['Final_Sales'].map(lambda x : round(x))"
      ],
      "metadata": {
        "id": "iHO0yqq8Trcg"
      },
      "execution_count": null,
      "outputs": []
    },
    {
      "cell_type": "markdown",
      "source": [
        "### Feature Selection"
      ],
      "metadata": {
        "id": "Y_aJrgVHS6aw"
      }
    },
    {
      "cell_type": "code",
      "source": [
        "# droping Irrelavent columns\n",
        "data.drop(['Patient_ID','ReturnQuantity'], axis = True, inplace = True)"
      ],
      "metadata": {
        "id": "cFoHR8_8zyjl"
      },
      "execution_count": null,
      "outputs": []
    },
    {
      "cell_type": "code",
      "source": [
        "data.head(10)"
      ],
      "metadata": {
        "id": "8RbTRFDTUCv6"
      },
      "execution_count": null,
      "outputs": []
    },
    {
      "cell_type": "markdown",
      "source": [
        "### Descriptive Analytics"
      ],
      "metadata": {
        "id": "WEwUzxvGUUPp"
      }
    },
    {
      "cell_type": "code",
      "source": [
        "data.describe()"
      ],
      "metadata": {
        "id": "LZAxCRXzUY43"
      },
      "execution_count": null,
      "outputs": []
    },
    {
      "cell_type": "markdown",
      "source": [
        "## **Segregate Numeric and Non numeric columns**\n"
      ],
      "metadata": {
        "id": "9eG7_M8L1AeZ"
      }
    },
    {
      "cell_type": "code",
      "source": [
        "numeric_features = data.select_dtypes(exclude = ['object','datetime64']).columns\n",
        "numeric_features"
      ],
      "metadata": {
        "id": "weMuuzNZ09Xv"
      },
      "execution_count": null,
      "outputs": []
    },
    {
      "cell_type": "code",
      "source": [
        "categorical_features = data.select_dtypes(include = ['object']).columns\n",
        "categorical_features"
      ],
      "metadata": {
        "id": "HEqidjDK1U0f"
      },
      "execution_count": null,
      "outputs": []
    },
    {
      "cell_type": "markdown",
      "source": [
        "## First Moment Decision - Measure Of Central Tendency"
      ],
      "metadata": {
        "id": "dfmXuK2DU7l-"
      }
    },
    {
      "cell_type": "code",
      "source": [
        "# Mean\n",
        "data[numeric_features].mean()"
      ],
      "metadata": {
        "id": "lk4oqVv8U4AB"
      },
      "execution_count": null,
      "outputs": []
    },
    {
      "cell_type": "code",
      "source": [
        "# Median\n",
        "data[numeric_features].median()"
      ],
      "metadata": {
        "id": "9aPeaZ2aVMh2"
      },
      "execution_count": null,
      "outputs": []
    },
    {
      "cell_type": "code",
      "source": [
        "# Mode\n",
        "data.mode()"
      ],
      "metadata": {
        "id": "O9M9A0kfVWha"
      },
      "execution_count": null,
      "outputs": []
    },
    {
      "cell_type": "markdown",
      "source": [
        "## Second Moment Bussiness Decision - Measure of Dispersion"
      ],
      "metadata": {
        "id": "YdAXDX5gVjFB"
      }
    },
    {
      "cell_type": "code",
      "source": [
        "# Variance\n",
        "data[numeric_features].var()"
      ],
      "metadata": {
        "id": "QfCtkJQoViiK"
      },
      "execution_count": null,
      "outputs": []
    },
    {
      "cell_type": "code",
      "source": [
        "# Standard Deviation\n",
        "data[numeric_features].std()"
      ],
      "metadata": {
        "id": "Z3TxsDmeVxhT"
      },
      "execution_count": null,
      "outputs": []
    },
    {
      "cell_type": "markdown",
      "source": [
        "## Third Moment Business Decision - Skewness"
      ],
      "metadata": {
        "id": "J_eq7-5LWHwD"
      }
    },
    {
      "cell_type": "code",
      "source": [
        "# Skewness\n",
        "data[numeric_features].skew()"
      ],
      "metadata": {
        "id": "1tsUmD2cWPJk"
      },
      "execution_count": null,
      "outputs": []
    },
    {
      "cell_type": "markdown",
      "source": [
        "## Forth Moment Business Decision - Kurtosis"
      ],
      "metadata": {
        "id": "WH7mzfB2WcNR"
      }
    },
    {
      "cell_type": "code",
      "source": [
        "# Kurtosis\n",
        "data[numeric_features].kurt()"
      ],
      "metadata": {
        "id": "Nua_ONH7Wlly"
      },
      "execution_count": null,
      "outputs": []
    },
    {
      "cell_type": "markdown",
      "source": [
        "## Exploratory Data Analysis"
      ],
      "metadata": {
        "id": "4LELmT4eWwEn"
      }
    },
    {
      "cell_type": "code",
      "source": [
        "data.Quantity.max()"
      ],
      "metadata": {
        "id": "UK_-ATRbWr93"
      },
      "execution_count": null,
      "outputs": []
    },
    {
      "cell_type": "code",
      "source": [
        "data['Quantity'].plot(kind = 'hist', color = 'orange', bins = 20, alpha = 1)\n",
        "plt.xlim(0, 160)"
      ],
      "metadata": {
        "id": "0Tv18cDjW2qh"
      },
      "execution_count": null,
      "outputs": []
    },
    {
      "cell_type": "code",
      "source": [
        "data.Final_Cost.max()"
      ],
      "metadata": {
        "id": "Hp6LV0PGXRet"
      },
      "execution_count": null,
      "outputs": []
    },
    {
      "cell_type": "code",
      "source": [
        "data['Final_Cost'].plot(kind = 'hist', color = 'red', bins = 500, alpha = 1)\n",
        "plt.xlim(0, 3500)"
      ],
      "metadata": {
        "id": "qnL4PMOfXWAj"
      },
      "execution_count": null,
      "outputs": []
    },
    {
      "cell_type": "code",
      "source": [
        "data.Final_Sales.max()"
      ],
      "metadata": {
        "id": "6PvzuvjdXie8"
      },
      "execution_count": null,
      "outputs": []
    },
    {
      "cell_type": "code",
      "source": [
        "data['Final_Sales'].plot(kind = 'hist', color = 'green', bins = 500, alpha =1)\n",
        "plt.xlim(0, 3500)"
      ],
      "metadata": {
        "id": "qGy8t1fNXl4N"
      },
      "execution_count": null,
      "outputs": []
    },
    {
      "cell_type": "code",
      "source": [
        "data.RtnMRP.max()"
      ],
      "metadata": {
        "id": "VROV8dHcXt6v"
      },
      "execution_count": null,
      "outputs": []
    },
    {
      "cell_type": "code",
      "source": [
        "data['RtnMRP'].plot(kind = 'hist', color = 'blue', bins = 100, alpha = 1)\n",
        "plt.xlim(0, 1000)"
      ],
      "metadata": {
        "id": "MfbzTEXzX06J"
      },
      "execution_count": null,
      "outputs": []
    },
    {
      "cell_type": "code",
      "source": [
        "# Pivot the DataFrame Bsaed on SubCat\n",
        "data_pivoted = data.pivot_table(index = 'SubCat', columns = 'Dateofbill', values = 'Quantity')\n",
        "\n",
        "# Result\n",
        "data_pivoted.head(10)"
      ],
      "metadata": {
        "id": "6rZtvTR0Yw6n"
      },
      "execution_count": null,
      "outputs": []
    },
    {
      "cell_type": "markdown",
      "source": [
        "## Data Distribustion"
      ],
      "metadata": {
        "id": "GgJnkPfAZdtk"
      }
    },
    {
      "cell_type": "code",
      "source": [
        "stats.probplot(data.Quantity, dist = 'norm', plot = pylab)\n",
        "plt.show()"
      ],
      "metadata": {
        "id": "S80YB5q-ZgnQ"
      },
      "execution_count": null,
      "outputs": []
    },
    {
      "cell_type": "markdown",
      "source": [
        "### Log Transformation"
      ],
      "metadata": {
        "id": "Y5wMuw2wawjF"
      }
    },
    {
      "cell_type": "code",
      "source": [
        "# Transforming the data to a normal distribution\n",
        "stats.probplot(np.log(data.Quantity), dist = 'norm', plot = pylab)\n",
        "plt.show()\n"
      ],
      "metadata": {
        "id": "F_T8mm9CasMz"
      },
      "execution_count": null,
      "outputs": []
    },
    {
      "cell_type": "markdown",
      "source": [
        "## Barplot Quantity of Drug sold by Month\n"
      ],
      "metadata": {
        "id": "-Qd5hbbebUBN"
      }
    },
    {
      "cell_type": "code",
      "source": [
        "sns.barplot(data = data, x = 'Dateofbill', y = 'Quantity', palette='muted')\n",
        "plt.title('Quantity of Drugs sold by month')\n",
        "plt.show()"
      ],
      "metadata": {
        "id": "34GCpZCebTB2"
      },
      "execution_count": null,
      "outputs": []
    },
    {
      "cell_type": "markdown",
      "source": [
        "In **Jan**, **Feb**, **Nov** has the highest Quantity sold. And it is approximatley Same"
      ],
      "metadata": {
        "id": "kIvfURoWcYVJ"
      }
    },
    {
      "cell_type": "markdown",
      "source": [
        "## Trend in Quantity"
      ],
      "metadata": {
        "id": "3mUW-cF__c4o"
      }
    },
    {
      "cell_type": "code",
      "source": [
        "Month = data.groupby('Dateofbill')['Quantity'].sum()\n",
        "plt.plot(Month.index, Month.values, color = 'blue')\n",
        "plt.title(\"Trend in Quantity\")\n",
        "plt.ylabel('Quantity')\n",
        "plt.xlabel('Month')"
      ],
      "metadata": {
        "id": "5kq3mhCu_gcV"
      },
      "execution_count": null,
      "outputs": []
    },
    {
      "cell_type": "code",
      "source": [
        "# Group by Quantity by Month\n",
        "grouped = data[['Dateofbill','Quantity']]\n",
        "\n",
        "df_group = grouped.groupby('Dateofbill').sum()\n",
        "\n",
        "# Result\n",
        "df_group.head(10)\n",
        "df_group.reset_index(inplace = True)\n",
        "df_group"
      ],
      "metadata": {
        "id": "STDDeVVTd5-Z"
      },
      "execution_count": null,
      "outputs": []
    },
    {
      "cell_type": "code",
      "source": [
        "# Create Dictionary to map month names into numeric values\n",
        "dict_month = {'Jan' : 1,'Feb' : 2,'Mar' : 3,'Apr' : 4,'May' : 5,'Jun' : 6,'Jul' : 7,'Aug' : 8,'Sep' : 9,'Oct' : 10,'Nov' : 11,'Dec' : 12}\n",
        "\n",
        "# Create new with numerical values of months\n",
        "df_group['Monthindex'] = df_group['Dateofbill'].map(dict_month)\n",
        "df_group.sort_values(by = 'Monthindex', inplace = True)\n",
        "df_group"
      ],
      "metadata": {
        "id": "gmsD_9OHAggP"
      },
      "execution_count": null,
      "outputs": []
    },
    {
      "cell_type": "code",
      "source": [
        "df_group.drop('Monthindex', axis = 1, inplace = True)\n",
        "df_group.reset_index(drop = True, inplace = True)\n",
        "df_group"
      ],
      "metadata": {
        "id": "QNXzgiotB2yt"
      },
      "execution_count": null,
      "outputs": []
    },
    {
      "cell_type": "markdown",
      "source": [
        "### One Hot Encoding"
      ],
      "metadata": {
        "id": "RiFSguxwDvX6"
      }
    },
    {
      "cell_type": "code",
      "source": [
        "data1 = pd.get_dummies(df_group.Dateofbill)\n",
        "data1.columns"
      ],
      "metadata": {
        "id": "et2djVvLDqE1"
      },
      "execution_count": null,
      "outputs": []
    },
    {
      "cell_type": "code",
      "source": [
        "data_clean = pd.concat([df_group, data1], axis = 1)\n",
        "data_clean"
      ],
      "metadata": {
        "id": "NcG9YpwlD-zH"
      },
      "execution_count": null,
      "outputs": []
    },
    {
      "cell_type": "code",
      "source": [
        "data_clean['t'] = np.arange(1, 13)\n",
        "data_clean['t_square'] = df['t'] * df['t']"
      ],
      "metadata": {
        "id": "Tco-GtT0FSV7"
      },
      "execution_count": null,
      "outputs": []
    },
    {
      "cell_type": "code",
      "source": [
        "data_clean['log_Quantity'] = np.log(data_clean['Quantity'])\n",
        "data_clean"
      ],
      "metadata": {
        "id": "DNJjIqTEEa4z"
      },
      "execution_count": null,
      "outputs": []
    },
    {
      "cell_type": "markdown",
      "source": [
        "## Model Building"
      ],
      "metadata": {
        "id": "17wuKlTWFoaJ"
      }
    },
    {
      "cell_type": "code",
      "source": [],
      "metadata": {
        "id": "yZe68FUEFq3I"
      },
      "execution_count": null,
      "outputs": []
    }
  ]
}