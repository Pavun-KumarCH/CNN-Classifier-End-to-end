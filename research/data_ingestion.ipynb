{
 "cells": [
  {
   "cell_type": "markdown",
   "metadata": {},
   "source": [
    "# Data Ingestion Stage"
   ]
  },
  {
   "cell_type": "markdown",
   "metadata": {},
   "source": [
    "## Entity"
   ]
  },
  {
   "cell_type": "code",
   "execution_count": 7,
   "metadata": {},
   "outputs": [],
   "source": [
    "from collections import namedtuple\n",
    "from dataclasses import dataclass\n",
    "from pathlib import Path\n",
    "\n",
    "# DataIngestionConfig = namedtuple(\"DataIngestionConfig\",\n",
    "# [\n",
    "#     \"root_dir\",\n",
    "#     \"source_URL\",\n",
    "#     \"local_data_file\",\n",
    "#     \"unzip_dir\"\n",
    "# ])\n",
    "\n",
    "\n",
    "# Alternative way\n",
    "@dataclass(frozen = True)\n",
    "class DataIngestionConfig:\n",
    "    root_dir: Path\n",
    "    source_URL: str\n",
    "    local_data_file: Path\n",
    "    unzip_dir: Path\n",
    "\n",
    "\n"
   ]
  },
  {
   "cell_type": "markdown",
   "metadata": {},
   "source": [
    "## Configuartion Manager "
   ]
  },
  {
   "cell_type": "code",
   "execution_count": 8,
   "metadata": {},
   "outputs": [],
   "source": [
    "from CNN_CLASSIFIER.constants import *\n",
    "from CNN_CLASSIFIER.utils.common import read_yaml, create_directories\n",
    "\n",
    "class ConfigurationManager:\n",
    "    def __init__(\n",
    "        self,\n",
    "        config_filepath = CONFIG_FILE_PATH, \n",
    "        params_filepath = PARAMS_FILE_PATH): \n",
    "        \n",
    "        self.config = read_yaml(config_filepath)\n",
    "        self.params = read_yaml(params_filepath)\n",
    "\n",
    "        create_directories([self.config.artifacts_root])\n",
    "    \n",
    "    def get_data_ingestion_config(self) -> DataIngestionConfig:\n",
    "        config = self.config.data_ingestion\n",
    "    \n",
    "\n",
    "        create_directories([config.root_dir])\n",
    "\n",
    "        data_ingestion_config = DataIngestionConfig(\n",
    "               root_dir = config.root_dir,\n",
    "               source_URL = config.source_URL,\n",
    "               local_data_file = config.local_data_file,\n",
    "               unzip_dir = config.unzip_dir,\n",
    "        ) \n",
    "        return data_ingestion_config"
   ]
  },
  {
   "cell_type": "markdown",
   "metadata": {},
   "source": [
    "## Components"
   ]
  },
  {
   "cell_type": "code",
   "execution_count": 10,
   "metadata": {},
   "outputs": [
    {
     "data": {
      "text/plain": [
       "'\\nx/y/Cats/1.jpg\\nx/y/Dogs/1.jpg\\nx/y/1.jpg ----> will be ignored\\n0.kb -----> will be ignored\\nNote : _function_ == Hidden methods \\n'"
      ]
     },
     "execution_count": 10,
     "metadata": {},
     "output_type": "execute_result"
    }
   ],
   "source": [
    "import os\n",
    "import urllib.request as request\n",
    "from zipfile import ZipFile\n",
    "from CNN_CLASSIFIER.logging import logger\n",
    "\n",
    "\n",
    "class DataIngestionConfig:\n",
    "    def __init__(self, config: DataIngestionConfig):\n",
    "        self.config = config\n",
    "        print(config)\n",
    "\n",
    "    def download_data(self):\n",
    "        if not os.path.exists(self.config.local_data_file):\n",
    "            filename, headers = request.urlretrieve(\n",
    "                url = self.config.source_URL,\n",
    "                filename = self.config.local_data_file\n",
    "            )\n",
    "    def _get_update_list_of_files(self, list_of_files):\n",
    "        return [f for f in list_of_files if f.endswith('.jpg') and (\"Cats\" in f or \"Dogs\" in f)]\n",
    "    \n",
    "    def _preprocess(self,zf: ZipFile,f: str, working_dir: str):\n",
    "        target_filepath = os.path.join(working_dir, f)\n",
    "        # If not exists extract the zip \n",
    "        if not os.path.exists(target_filepath):\n",
    "            zf.extract(f, working_dir)\n",
    "\n",
    "        # Remove Zero KB files\n",
    "        if os.path.getsize(target_filepath) == 0:\n",
    "            os.remove(target_filepath)\n",
    "                  \n",
    "    def unzip_and_clean(self):\n",
    "        with ZipFile(file = self.config.local_data_file,mode='r') as zf:\n",
    "            list_of_files = zf.namelist()\n",
    "            updated_list_of_files = self._get_update_list_of_files(list_of_files)\n",
    "            for f in updated_list_of_files:\n",
    "                self._preprocess(zf,f,self.config.unzip_dir)\n",
    "\n",
    "# Example\n",
    "'''\n",
    "x/y/Cats/1.jpg\n",
    "x/y/Dogs/1.jpg\n",
    "x/y/1.jpg ----> will be ignored\n",
    "0.kb -----> will be ignored\n",
    "Note : _function_ == Hidden methods \n",
    "'''"
   ]
  },
  {
   "cell_type": "markdown",
   "metadata": {},
   "source": [
    "## Pipeline"
   ]
  },
  {
   "cell_type": "code",
   "execution_count": null,
   "metadata": {},
   "outputs": [],
   "source": [
    "%pwd\n",
    "os.chdir(\"/Users/pavankumar/Projects/CNN-Classifier-End-to-end/\")"
   ]
  },
  {
   "cell_type": "code",
   "execution_count": null,
   "metadata": {},
   "outputs": [
    {
     "data": {
      "text/plain": [
       "'/Users/pavankumar/Projects/CNN-Classifier-End-to-end'"
      ]
     },
     "execution_count": 16,
     "metadata": {},
     "output_type": "execute_result"
    }
   ],
   "source": [
    "%pwd"
   ]
  },
  {
   "cell_type": "code",
   "execution_count": 11,
   "metadata": {},
   "outputs": [
    {
     "name": "stdout",
     "output_type": "stream",
     "text": [
      "[2024-05-01 10:56:04,590: ERROR: 3098241455: [Errno 2] No such file or directory: 'config/config.yaml']\n"
     ]
    }
   ],
   "source": [
    "try:\n",
    "    config = ConfigurationManager()\n",
    "    data_ingestion_config = config.get_data_ingestion_config()\n",
    "    data_ingestion = DataIngestionConfig(config = data_ingestion_config)\n",
    "    data_ingestion.download_data()\n",
    "    data_ingestion.unzip_and_clean()\n",
    "\n",
    "except Exception as e:\n",
    "    logger.error(e)"
   ]
  }
 ],
 "metadata": {
  "kernelspec": {
   "display_name": "cnncls",
   "language": "python",
   "name": "python3"
  },
  "language_info": {
   "codemirror_mode": {
    "name": "ipython",
    "version": 3
   },
   "file_extension": ".py",
   "mimetype": "text/x-python",
   "name": "python",
   "nbconvert_exporter": "python",
   "pygments_lexer": "ipython3",
   "version": "3.8.19"
  }
 },
 "nbformat": 4,
 "nbformat_minor": 2
}
